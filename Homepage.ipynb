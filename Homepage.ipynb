{
 "cells": [
  {
   "cell_type": "code",
   "execution_count": 54,
   "metadata": {},
   "outputs": [],
   "source": [
    "from jupyter_dash import JupyterDash\n",
    "import dash\n",
    "import dash_core_components as dcc\n",
    "import dash_html_components as html\n",
    "import dash_bootstrap_components as dbc\n",
    "from dash.dependencies import Input, Output"
   ]
  },
  {
   "cell_type": "code",
   "execution_count": 55,
   "metadata": {},
   "outputs": [],
   "source": [
    "app = JupyterDash(\n",
    "    __name__,\n",
    "    meta_tags=[{\n",
    "        'name': 'viewport',\n",
    "        'content': 'width=device-width, initial-scale=1.0, maximum-scale=4, minimum-scale=0.5,'\n",
    "    }],\n",
    "    external_stylesheets=[\n",
    "        dbc.themes.COSMO,\n",
    "        'https://use.fontawesome.com/releases/v5.9.0/css/all.css',\n",
    "        ]\n",
    ")"
   ]
  },
  {
   "cell_type": "code",
   "execution_count": 56,
   "metadata": {},
   "outputs": [],
   "source": [
    "bio = html.Div([\n",
    "    dbc.Row([\n",
    "        dbc.Col([\n",
    "            html.Img(\n",
    "                src=app.get_asset_url('mypic.jpg'),\n",
    "                style={'width': \"230px\", 'height': '308px'}\n",
    "            )\n",
    "        ]),\n",
    "        dbc.Col([\n",
    "            html.H3(\n",
    "                \"Matt Kirby\"\n",
    "            ),\n",
    "            html.P(\n",
    "                \"\"\"\n",
    "                Matt is a Data Scientist and Engineer at Organic Robotics Coporation where he is \n",
    "                developing the next generation of wearable sensing technology to \n",
    "                revolutionize sports, medicine, and society.\n",
    "                \"\"\"\n",
    "            )\n",
    "        ]),\n",
    "        dbc.Col([\n",
    "\n",
    "        ])\n",
    "    ])\n",
    "])"
   ]
  },
  {
   "cell_type": "code",
   "execution_count": 57,
   "metadata": {},
   "outputs": [],
   "source": [
    "SIDEBAR_STYLE = {\n",
    "    \"position\": \"fixed\",\n",
    "    \"top\": 0,\n",
    "    \"left\": 0,\n",
    "    \"bottom\": 0,\n",
    "    \"width\": \"16rem\",\n",
    "    \"padding\": \"2rem 1rem\",\n",
    "    \"background-color\": \"#f8f9fa\",\n",
    "}\n",
    "CONTENT_STYLE = {\n",
    "    \"margin-left\": \"18rem\",\n",
    "    \"margin-right\": \"2rem\",\n",
    "    \"padding\": \"2rem 1rem\",\n",
    "}\n",
    "sidebar = html.Div(\n",
    "    [\n",
    "        dbc.Nav(\n",
    "            [\n",
    "                dbc.NavLink(\"Home\", href=\"/\", active=\"exact\"),\n",
    "                #dbc.NavLink(\"Posts\", href=\"/apps\", active=\"exact\"),\n",
    "                dbc.NavLink(\"Essays\", href=\"/essays\", active=\"exact\"),\n",
    "                dbc.NavLink(\"Bio\", href=\"/bio\", active=\"exact\"),\n",
    "                dbc.NavLink(\"Twitter\", href=\"https://twitter.com/matt42kirby\", active=\"exact\"),\n",
    "                dbc.NavLink(\"LinkedIn\", href=\"https://www.linkedin.com/in/matt-kirby-ml/\", active=\"exact\"),\n",
    "                dbc.NavLink(\"GitHub\", href=\"https://github.com/mkirby42\", active=\"exact\"),\n",
    "                dbc.NavLink(\"Mail\", href=\"mailto:6mdkirby@gmail.com\", active=\"exact\"),\n",
    "            ],\n",
    "            vertical=True,\n",
    "            pills=True,\n",
    "        ),\n",
    "    ],\n",
    "    style=SIDEBAR_STYLE,\n",
    ")"
   ]
  },
  {
   "cell_type": "code",
   "execution_count": 58,
   "metadata": {},
   "outputs": [],
   "source": [
    "app.title = 'Weapons Grade Bolognium'\n",
    "app.layout = html.Div([\n",
    "    html.H2(\"Weapons Grade Bolognium\", className=\"display-4\", style=CONTENT_STYLE),\n",
    "    html.Hr(),\n",
    "    sidebar,\n",
    "    dcc.Location(id='location', refresh=False),\n",
    "    dbc.Container(id='main_content', className='mt-4', style=CONTENT_STYLE),\n",
    "])"
   ]
  },
  {
   "cell_type": "code",
   "execution_count": 59,
   "metadata": {},
   "outputs": [],
   "source": [
    "from pages import posts"
   ]
  },
  {
   "cell_type": "code",
   "execution_count": 60,
   "metadata": {},
   "outputs": [],
   "source": [
    "@app.callback(Output('main_content', 'children'),\n",
    "              Input('location', 'pathname'))\n",
    "def display_content(pathname):\n",
    "    if pathname == \"/\":\n",
    "        return html.Div([])\n",
    "    elif pathname == \"/essays\":\n",
    "        return posts.layout\n",
    "    elif pathname == \"/bio\":\n",
    "        return bio\n",
    "    else:\n",
    "        return dcc.Markdown('## Page not found')"
   ]
  },
  {
   "cell_type": "code",
   "execution_count": 61,
   "metadata": {},
   "outputs": [],
   "source": [
    "server = app.server"
   ]
  },
  {
   "cell_type": "code",
   "execution_count": 62,
   "metadata": {},
   "outputs": [
    {
     "name": "stdout",
     "output_type": "stream",
     "text": [
      "Dash app running on http://127.0.0.1:8050/\n"
     ]
    }
   ],
   "source": [
    "app.run_server(mode='external')"
   ]
  },
  {
   "cell_type": "code",
   "execution_count": null,
   "metadata": {},
   "outputs": [],
   "source": [
    "if __name__ == '__main__':\n",
    "    app.run_server(debug=False)"
   ]
  }
 ],
 "metadata": {
  "interpreter": {
   "hash": "41a173f4a22bbe6fcfcf0342ec34f911b68f572cad0f28a7c0b2477d636c685e"
  },
  "kernelspec": {
   "display_name": "Python 3.8.8 64-bit ('portfolio_env': venv)",
   "language": "python",
   "name": "python3"
  },
  "language_info": {
   "codemirror_mode": {
    "name": "ipython",
    "version": 3
   },
   "file_extension": ".py",
   "mimetype": "text/x-python",
   "name": "python",
   "nbconvert_exporter": "python",
   "pygments_lexer": "ipython3",
   "version": "3.8.8"
  },
  "orig_nbformat": 4
 },
 "nbformat": 4,
 "nbformat_minor": 2
}
